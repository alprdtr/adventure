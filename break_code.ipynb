{
  "nbformat": 4,
  "nbformat_minor": 0,
  "metadata": {
    "colab": {
      "name": "Copy of Copy of [Template] Break the code (Jangan lupa di-copy).ipynb",
      "provenance": []
    },
    "kernelspec": {
      "name": "python3",
      "display_name": "Python 3"
    },
    "language_info": {
      "name": "python"
    }
  },
  "cells": [
    {
      "cell_type": "markdown",
      "source": [
        "# Baca Cipher"
      ],
      "metadata": {
        "id": "zyMtLtyPKA6H"
      }
    },
    {
      "cell_type": "code",
      "execution_count": null,
      "metadata": {
        "colab": {
          "base_uri": "https://localhost:8080/"
        },
        "id": "0_fKO-SJJ8ZI",
        "outputId": "99122a80-66aa-49e5-c46f-3dc725e0ef0a"
      },
      "outputs": [
        {
          "output_type": "stream",
          "name": "stdout",
          "text": [
            "Mounted at /content/gdrive\n"
          ]
        }
      ],
      "source": [
        "from google.colab import drive\n",
        "drive.mount('/content/gdrive')"
      ]
    },
    {
      "cell_type": "code",
      "source": [
        "%cd \"gdrive/MyDrive/Python Resource/First Workshop/Encrypted Files\""
      ],
      "metadata": {
        "colab": {
          "base_uri": "https://localhost:8080/"
        },
        "id": "RAMdC8ViKCzZ",
        "outputId": "43adf965-2e54-4ee6-ce09-511f8ac99b44"
      },
      "execution_count": null,
      "outputs": [
        {
          "output_type": "stream",
          "name": "stdout",
          "text": [
            "/content/gdrive/.shortcut-targets-by-id/1DChzsjWLrEeqksNSDY9n6EN2LVwAJhX-/Encrypted Files (Assignment)\n"
          ]
        }
      ]
    },
    {
      "cell_type": "code",
      "source": [
        "import pickle\n",
        "dict_file = open('cipher_dictionary.pickle', 'rb')\n",
        "cipher_dictionary = pickle.load(dict_file)"
      ],
      "metadata": {
        "id": "tUQ2H1rOKQX-"
      },
      "execution_count": null,
      "outputs": []
    },
    {
      "cell_type": "code",
      "source": [
        "cipher_dictionary"
      ],
      "metadata": {
        "colab": {
          "base_uri": "https://localhost:8080/"
        },
        "id": "PLB7UmvLKY-q",
        "outputId": "7fc5c792-8eff-47ec-c912-75cad62d34f2"
      },
      "execution_count": null,
      "outputs": [
        {
          "output_type": "execute_result",
          "data": {
            "text/plain": [
              "{'A': [')', '2', 'H', 's', 'C', '\\t', 'W', 'r', '{', '>'],\n",
              " 'C': ['[', 'D', '\\n', '*', '4', ' ', '%', 'y', '#', '<'],\n",
              " 'D': ['U', 'x', 'd', 'E', 'w', 't', '+', '}', '~', 'T'],\n",
              " 'E': ['!', '/', 'G', 'A', 'f', 'i', 'k', 'I', '7', '5'],\n",
              " 'I': ['z', 'B', '@', 'j', 'K', '\"', 'm', 'Y', '_', '?'],\n",
              " 'J': [']', 'Z', '1', 'b', 'V', 'c', 'n', 'o', 'u', 'L'],\n",
              " 'P': ['N', 'l', '-', 'O', ':', \"'\", '8', '.', '0', 'X'],\n",
              " 'Q': ['P', 'e', 'q', 'S', 'v', ',', '$', '9', 'h', 'Q'],\n",
              " 'Z': ['g', '(', 'M', 'a', 'J', 'p', '3', 'F', 'R', '6']}"
            ]
          },
          "metadata": {},
          "execution_count": 4
        }
      ]
    },
    {
      "cell_type": "code",
      "source": [
        "cipher_dictionary['A'][2]"
      ],
      "metadata": {
        "id": "fIXS_aJ5Kdk2",
        "colab": {
          "base_uri": "https://localhost:8080/",
          "height": 35
        },
        "outputId": "7b4a88fe-2063-43a1-fc93-f13429b6a5ac"
      },
      "execution_count": null,
      "outputs": [
        {
          "output_type": "execute_result",
          "data": {
            "text/plain": [
              "'H'"
            ],
            "application/vnd.google.colaboratory.intrinsic+json": {
              "type": "string"
            }
          },
          "metadata": {},
          "execution_count": 8
        }
      ]
    },
    {
      "cell_type": "markdown",
      "source": [
        "# Break the codes\n",
        "Masukkan kode kamu untuk decypher text encrypted yang ada di drive disini!"
      ],
      "metadata": {
        "id": "PmLfQL0jKlaz"
      }
    },
    {
      "cell_type": "code",
      "source": [
        "with open('/content/gdrive/MyDrive/Python Resource/First Workshop/Encrypted Files/encrypted1.txt') as encrypted:\n",
        "    for line in encrypted:\n",
        "        encrypted1 = line.split()\n",
        "        print(encrypted1)"
      ],
      "metadata": {
        "colab": {
          "base_uri": "https://localhost:8080/"
        },
        "id": "-AmR4-t_C5nz",
        "outputId": "a480bac5-e4b2-48d0-c867-d32abb12740d"
      },
      "execution_count": null,
      "outputs": [
        {
          "output_type": "stream",
          "name": "stdout",
          "text": [
            "['I1', 'Z3', 'Q8', 'D4', 'Z3', 'C5', 'A3', 'Q1', 'A3', 'J8', 'J6', 'Z0', 'Z0', 'J8', 'Q8', 'J6', 'C7', 'Z3', 'C5', 'I4', 'Q1', 'I6', 'Q1', 'A7', 'D2', 'Q1', 'E6', 'Z3', 'Z3', 'J6', 'C5', 'E5', 'D5', 'J8', 'C5', 'E5', 'Z3', 'P1', 'Z3', 'Q8', 'C5', 'Q8', 'Z3', 'E6', 'C5', 'A3', 'Q1', 'Z0', 'Z3', 'P1', 'Z3', 'C5', 'J3', 'Z3', 'J6', 'Z0', 'A3', 'Z3', 'C5', 'D2', 'Z3', 'J6', 'C5', 'J7', 'P1', 'Q1', 'Q8', 'C5', 'A3', 'Q1', 'J3', 'Z3', 'J3', 'C5', 'E5', 'D5', 'J8', 'Q5', 'C5', 'I6', 'Z3', 'E6', 'Z3', 'C5', 'Z5', 'Q1', 'J6', 'I3', 'Z3', 'I3', 'Z3', 'Q8', 'Z3', 'J6', 'C5', 'D2', 'E5', 'C5', 'Z3', 'D5', 'Z3', 'A3', 'C5', 'D2', 'J8', 'J6', 'E5', 'Z3', 'C5', 'Q8', 'Z3', 'A7', 'J8', 'A3', 'C5', 'D2', 'E5', 'Q8', 'Z3', 'Z5', 'J8', 'A3', 'E6', 'Z3', 'J6', 'Q5', 'C5', 'E6', 'Z3', 'A7', 'Q1', 'J6', 'Z3', 'C5', 'D5', 'E5', 'D2', 'Z3', 'E6', 'C5', 'A3', 'Q1', 'A3', 'J8', 'Z3', 'E5', 'C5', 'D2', 'Q1', 'J6', 'Z0', 'Z3', 'J6', 'C5', 'Z5', 'Q1', 'A7', 'E5', 'E6', 'Q1', 'I6', 'Z3', 'J6', 'J8', 'A3', 'E5', 'Z3', 'Z3', 'J6', 'C5', 'D2', 'Z3', 'J6', 'C5', 'Z5', 'Q1', 'A7', 'E5', 'E6', 'Q1', 'Z3', 'D2', 'E5', 'P1', 'Z3', 'J6', 'P7', 'C2', 'C1', 'Z3', 'J6', 'C5', 'Z5', 'Q1', 'A7', 'I3', 'J8', 'Z3', 'J6', 'Z0', 'Z3', 'J6', 'C5', 'Z5', 'Q1', 'A7', 'Z0', 'Q1', 'A7', 'Z3', 'E6', 'Z3', 'J6', 'C5', 'E6', 'Q1', 'I6', 'Q1', 'A7', 'D2', 'Q1', 'E6', 'Z3', 'Z3', 'J6', 'C5', 'E7', 'J6', 'D2', 'J7', 'J6', 'Q1', 'A3', 'E5', 'Z3', 'C5', 'D5', 'Q1', 'P1', 'Z3', 'Q8', 'C5', 'A3', 'Z3', 'I6', 'Z5', 'Z3', 'E5', 'P1', 'Z3', 'Q8', 'C5', 'E6', 'Q1', 'Z5', 'Z3', 'D2', 'Z3', 'C5', 'A3', 'Z3', 'Z3', 'D5', 'C5', 'C7', 'Z3', 'J6', 'Z0', 'C5', 'J3', 'Q1', 'A7', 'J3', 'Z3', 'Q8', 'Z3', 'Z0', 'E5', 'Z3', 'C5', 'D2', 'Q1', 'J6', 'Z0', 'Z3', 'J6', 'C5', 'A3', 'Q1', 'P1', 'Z3', 'I6', 'Z3', 'D5', 'C5', 'A3', 'Q1', 'J6', 'D5', 'Z3', 'J8', 'A3', 'Z3', 'C5', 'I6', 'Q1', 'J6', 'Z0', 'Z3', 'J6', 'D5', 'Z3', 'A7', 'E6', 'Z3', 'J6', 'C5', 'A7', 'Z3', 'E6', 'C7', 'Z3', 'D5', 'C5', 'E7', 'J6', 'D2', 'J7', 'J6', 'Q1', 'A3', 'E5', 'Z3', 'C5', 'E6', 'Q1', 'C5', 'D2', 'Q1', 'Z5', 'Z3', 'J6', 'C5', 'Z5', 'E5', 'J6', 'D5', 'J8', 'C5', 'Z0', 'Q1', 'A7', 'J3', 'Z3', 'J6', 'Z0', 'C5', 'E6', 'Q1', 'I6', 'Q1', 'A7', 'D2', 'Q1', 'E6', 'Z3', 'Z3', 'J6', 'C5', 'P0', 'Q1', 'Z0', 'Z3', 'A7', 'Z3', 'C5', 'E7', 'J6', 'D2', 'J7', 'J6', 'Q1', 'A3', 'E5', 'Z3', 'Q5', 'C5', 'C7', 'Z3', 'J6', 'Z0', 'C5', 'I6', 'Q1', 'A7', 'D2', 'Q1', 'E6', 'Z3', 'Q5', 'C5', 'J3', 'Q1', 'A7', 'A3', 'Z3', 'D5', 'J8', 'Q5', 'C5', 'J3', 'Q1', 'A7', 'D2', 'Z3', 'J8', 'P1', 'Z3', 'D5', 'Q5', 'C5', 'Z3', 'D2', 'E5', 'P1', 'C5', 'D2', 'Z3', 'J6', 'C5', 'I6', 'Z3', 'E6', 'I6', 'J8', 'A7', 'P7', 'C2', 'E3', 'D5', 'Z3', 'A3', 'C5', 'J3', 'Q1', 'A7', 'E6', 'Z3', 'D5', 'C5', 'A7', 'Z3', 'E6', 'Q8', 'I6', 'Z3', 'D5', 'C5', 'E3', 'P1', 'P1', 'Z3', 'Q8', 'C5', 'I7', 'Z3', 'J6', 'Z0', 'C5', 'Z2', 'Z3', 'Q8', 'Z3', 'C5', 'I4', 'J8', 'Z3', 'A3', 'Z3', 'C5', 'D2', 'Z3', 'J6', 'C5', 'D2', 'Q1', 'J6', 'Z0', 'Z3', 'J6', 'C5', 'D2', 'E5', 'D2', 'J7', 'A7', 'J7', 'J6', 'Z0', 'E6', 'Z3', 'J6', 'C5', 'J7', 'P1', 'Q1', 'Q8', 'C5', 'E6', 'Q1', 'E5', 'J6', 'Z0', 'E5', 'J6', 'Z3', 'J6', 'C5', 'P1', 'J8', 'Q8', 'J8', 'A7', 'Q5', 'C5', 'A3', 'J8', 'Z5', 'Z3', 'C7', 'Z3', 'C5', 'J3', 'Q1', 'A7', 'E6', 'Q1', 'Q8', 'E5', 'D2', 'J8', 'Z5', 'Z3', 'J6', 'C5', 'E6', 'Q1', 'J3', 'Z3', 'J6', 'Z0', 'A3', 'Z3', 'Z3', 'J6', 'C5', 'C7', 'Z3', 'J6', 'Z0', 'C5', 'J3', 'Q1', 'J3', 'Z3', 'A3', 'Q5', 'C5', 'I6', 'Z3', 'E6', 'Z3', 'C5', 'A7', 'Z3', 'E6', 'C7', 'Z3', 'D5', 'C5', 'E7', 'J6', 'D2', 'J7', 'J6', 'Q1', 'A3', 'E5', 'Z3', 'C5', 'I6', 'Q1', 'J6', 'C7', 'Z3', 'D5', 'Z3', 'E6', 'Z3', 'J6', 'C5', 'D2', 'Q1', 'J6', 'Z0', 'Z3', 'J6', 'C5', 'E5', 'J6', 'E5', 'C5', 'E6', 'Q1', 'I6', 'Q1', 'A7', 'D2', 'Q1', 'E6', 'Z3', 'Z3', 'J6', 'J6', 'C7', 'Z3', 'P7', 'C2', 'I4', 'Q1', 'I6', 'J8', 'D2', 'E5', 'Z3', 'J6', 'C5', 'D2', 'Z3', 'A7', 'E5', 'Z5', 'Z3', 'D2', 'Z3', 'C5', 'E5', 'D5', 'J8', 'C5', 'J8', 'J6', 'D5', 'J8', 'E6', 'C5', 'I6', 'Q1', 'I6', 'J3', 'Q1', 'J6', 'D5', 'J8', 'E6', 'C5', 'A3', 'J8', 'Z3', 'D5', 'J8', 'C5', 'Q0', 'Q1', 'I6', 'Q1', 'A7', 'E5', 'J6', 'D5', 'Z3', 'Q8', 'C5', 'P0', 'Q1', 'Z0', 'Z3', 'A7', 'Z3', 'C5', 'E7', 'J6', 'D2', 'J7', 'J6', 'Q1', 'A3', 'E5', 'Z3', 'C5', 'C7', 'Z3', 'J6', 'Z0', 'C5', 'I6', 'Q1', 'P1', 'E5', 'J6', 'D2', 'J8', 'J6', 'Z0', 'E5', 'C5', 'A3', 'Q1', 'Z0', 'Q1', 'J6', 'Z3', 'Z5', 'C5', 'J3', 'Z3', 'J6', 'Z0', 'A3', 'Z3', 'C5', 'E7', 'J6', 'D2', 'J7', 'J6', 'Q1', 'A3', 'E5', 'Z3', 'C5', 'D2', 'Z3', 'J6', 'C5', 'A3', 'Q1', 'P1', 'J8', 'A7', 'J8', 'Q8', 'C5', 'D5', 'J8', 'I6', 'Z5', 'Z3', 'Q8', 'C5', 'D2', 'Z3', 'A7', 'Z3', 'Q8', 'C5', 'E7', 'J6', 'D2', 'J7', 'J6', 'Q1', 'A3', 'E5', 'Z3', 'C5', 'D2', 'Z3', 'J6', 'C5', 'J8', 'J6', 'D5', 'J8', 'E6', 'C5', 'I6', 'Q1', 'I6', 'Z3', 'I3', 'J8', 'E6', 'Z3', 'J6', 'C5', 'E6', 'Q1', 'A3', 'Q1', 'I3', 'Z3', 'Q8', 'D5', 'Q1', 'A7', 'Z3', 'Z3', 'J6', 'C5', 'J8', 'I6', 'J8', 'I6', 'Q5', 'C5', 'I6', 'Q1', 'J6', 'J5', 'Q1', 'A7', 'D2', 'Z3', 'A3', 'E6', 'Z3', 'J6', 'C5', 'E6', 'Q1', 'Q8', 'E5', 'D2', 'J8', 'Z5', 'Z3', 'J6', 'C5', 'J3', 'Z3', 'J6', 'Z0', 'A3', 'Z3', 'Q5', 'C5', 'D2', 'Z3', 'J6', 'C5', 'E5', 'E6', 'J8', 'D5', 'C5', 'I6', 'Q1', 'P1', 'Z3', 'E6', 'A3', 'Z3', 'J6', 'Z3', 'E6', 'Z3', 'J6', 'C5', 'E6', 'Q1', 'D5', 'Q1', 'A7', 'D5', 'E5', 'J3', 'Z3', 'J6', 'C5', 'D2', 'J8', 'J6', 'E5', 'Z3', 'C5', 'C7', 'Z3', 'J6', 'Z0', 'C5', 'J3', 'Q1', 'A7', 'D2', 'Z3', 'A3', 'Z3', 'A7', 'E6', 'Z3', 'J6', 'C5', 'E6', 'Q1', 'I6', 'Q1', 'A7', 'D2', 'Q1', 'E6', 'Z3', 'Z3', 'J6', 'Q5', 'C5', 'Z5', 'Q1', 'A7', 'D2', 'Z3', 'I6', 'Z3', 'E5', 'Z3', 'J6', 'C5', 'Z3', 'J3', 'Z3', 'D2', 'E5', 'C5', 'D2', 'Z3', 'J6', 'C5', 'E6', 'Q1', 'Z3', 'D2', 'E5', 'P1', 'Z3', 'J6', 'C5', 'A3', 'J7', 'A3', 'E5', 'Z3', 'P1', 'Q5', 'C5', 'I6', 'Z3', 'E6', 'Z3', 'C5', 'D2', 'E5', 'A3', 'J8', 'A3', 'J8', 'J6', 'P1', 'Z3', 'Q8', 'C5', 'I4', 'Q1', 'I6', 'Q1', 'A7', 'D2', 'Q1', 'E6', 'Z3', 'Z3', 'J6', 'C5', 'I4', 'Q1', 'J3', 'Z3', 'J6', 'Z0', 'A3', 'Z3', 'Z3', 'J6', 'C5', 'E7', 'J6', 'D2', 'J7', 'J6', 'Q1', 'A3', 'E5', 'Z3', 'C5', 'E5', 'D5', 'J8', 'C5', 'D2', 'Z3', 'P1', 'Z3', 'I6', 'C5', 'A3', 'J8', 'Z3', 'D5', 'J8', 'C5', 'D0', 'J6', 'D2', 'Z3', 'J6', 'Z0', 'P2', 'D0', 'J6', 'D2', 'Z3', 'J6', 'Z0', 'C5', 'C1', 'Z3', 'A3', 'Z3', 'A7', 'C5', 'P0', 'Q1', 'Z0', 'Z3', 'A7', 'Z3', 'C5', 'E7', 'J6', 'D2', 'J7', 'J6', 'Q1', 'A3', 'E5', 'Z3', 'Q5', 'C5', 'C7', 'Z3', 'J6', 'Z0', 'C5', 'D5', 'Q1', 'A7', 'J3', 'Q1', 'J6', 'D5', 'J8', 'E6', 'C5', 'D2', 'Z3', 'P1', 'Z3', 'I6', 'C5', 'A3', 'J8', 'Z3', 'D5', 'J8', 'C5', 'A3', 'J8', 'A3', 'J8', 'J6', 'Z3', 'J6', 'C5', 'P0', 'Q1', 'Z0', 'Z3', 'A7', 'Z3', 'C5', 'Z8', 'Q1', 'Z5', 'J8', 'J3', 'P1', 'E5', 'E6', 'C5', 'E7', 'J6', 'D2', 'J7', 'J6', 'Q1', 'A3', 'E5', 'Z3', 'C5', 'C7', 'Z3', 'J6', 'Z0', 'C5', 'J3', 'Q1', 'A7', 'E6', 'Q1', 'D2', 'Z3', 'J8', 'P1', 'Z3', 'D5', 'Z3', 'J6', 'C5', 'A7', 'Z3', 'E6', 'C7', 'Z3', 'D5', 'C5', 'D2', 'Q1', 'J6', 'Z0', 'Z3', 'J6', 'C5', 'J3', 'Q1', 'A7', 'D2', 'Z3', 'A3', 'Z3', 'A7', 'C5', 'E6', 'Q1', 'Z5', 'Z3', 'D2', 'Z3', 'C5', 'I4', 'Q1', 'D5', 'J8', 'Q8', 'Z3', 'J6', 'Z3', 'J6', 'C5', 'I7', 'Z3', 'J6', 'Z0', 'C5', 'Z2', 'Z3', 'Q8', 'Z3', 'C5', 'D3', 'A3', 'Z3', 'Q5', 'C5', 'I4', 'Q1', 'I6', 'Z3', 'J6', 'J8', 'A3', 'E5', 'Z3', 'Z3', 'J6', 'C5', 'C7', 'Z3', 'J6', 'Z0', 'C5', 'Z3', 'D2', 'E5', 'P1', 'C5', 'D2', 'Z3', 'J6', 'C5', 'J3', 'Q1', 'A7', 'Z3', 'D2', 'Z3', 'J3', 'Q5', 'C5', 'Q0', 'Q1', 'A7', 'A3', 'Z3', 'D5', 'J8', 'Z3', 'J6', 'C5', 'E7', 'J6', 'D2', 'J7', 'J6', 'Q1', 'A3', 'E5', 'Z3', 'C5', 'D2', 'Z3', 'J6', 'C5', 'I4', 'Q1', 'A7', 'Z3', 'E6', 'C7', 'Z3', 'D5', 'Z3', 'J6', 'C5', 'C7', 'Z3', 'J6', 'Z0', 'C5', 'D2', 'E5', 'Z5', 'E5', 'I6', 'Z5', 'E5', 'J6', 'C5', 'J7', 'P1', 'Q1', 'Q8', 'C5', 'Q8', 'E5', 'E6', 'I6', 'Z3', 'D5', 'C5', 'E6', 'Q1', 'J3', 'E5', 'I3', 'Z3', 'E6', 'A3', 'Z3', 'J6', 'Z3', 'Z3', 'J6', 'C5', 'D2', 'Z3', 'P1', 'Z3', 'I6', 'C5', 'Q0', 'Q1', 'A7', 'I6', 'J8', 'A3', 'C7', 'Z3', 'D4', 'Z3', 'A7', 'Z3', 'D5', 'Z3', 'J6', 'E1', 'Q0', 'Q1', 'A7', 'D4', 'Z3', 'E6', 'E5', 'P1', 'Z3', 'J6', 'Q5', 'C5', 'A3', 'Q1', 'A7', 'D5', 'Z3', 'C5', 'D2', 'Q1', 'J6', 'Z0', 'Z3', 'J6', 'C5', 'I6', 'Q1', 'D4', 'J8', 'I3', 'J8', 'D2', 'E6', 'Z3', 'J6', 'C5', 'A3', 'J8', 'Z3', 'D5', 'J8', 'C5', 'I4', 'Q1', 'Z3', 'D2', 'E5', 'P1', 'Z3', 'J6', 'C5', 'A3', 'J7', 'A3', 'E5', 'Z3', 'P1', 'C5', 'J3', 'Z3', 'Z0', 'E5', 'C5', 'A3', 'Q1', 'P1', 'J8', 'A7', 'J8', 'Q8', 'C5', 'A7', 'Z3', 'E6', 'C7', 'Z3', 'D5', 'C5', 'E7', 'J6', 'D2', 'J7', 'J6', 'Q1', 'A3', 'E5', 'Z3', 'P7', 'C2', 'C2', 'Q0', 'Z3', 'A3', 'A3', 'D4', 'J7', 'A7', 'D2', 'C5', 'A2', 'E5', 'J6', 'D5', 'C5', 'J2', 'P4', 'C5', 'E8', 'C5', 'A2', 'J8', 'A7', 'J8', 'E4', 'Q5', 'C5', 'P0', 'Z3', 'I6', 'Z3', 'C5', 'D2', 'J7', 'E6', 'J8', 'I6', 'Q1', 'J6', 'C5', 'D2', 'E5', 'I6', 'Z3', 'J6', 'Z3', 'C5', 'Z5', 'J7', 'D5', 'J7', 'J6', 'Z0', 'Z3', 'J6', 'C5', 'D5', 'Q1', 'E6', 'A3', 'C5', 'D5', 'Q1', 'A7', 'A3', 'Q1', 'J3', 'J8', 'D5', 'C5', 'J3', 'Q1', 'A7', 'Z3', 'A3', 'Z3', 'P1']\n"
          ]
        }
      ]
    },
    {
      "cell_type": "code",
      "source": [
        "with open('/content/gdrive/MyDrive/Python Resource/First Workshop/Encrypted Files/encrypted2.txt') as encrypted:\n",
        "    for line in encrypted:\n",
        "        encrypted2 = line.split()\n",
        "        print(encrypted2)"
      ],
      "metadata": {
        "colab": {
          "base_uri": "https://localhost:8080/"
        },
        "id": "sxdzRHyJDY8Y",
        "outputId": "b780e2c7-5349-45c9-83a3-c8d477a7724e"
      },
      "execution_count": null,
      "outputs": [
        {
          "output_type": "stream",
          "name": "stdout",
          "text": [
            "['C2', 'D9', 'Q1', 'A7', 'D2', 'Z3', 'Z5', 'Z3', 'D5', 'C5', 'Z6', 'C5', 'J3', 'J8', 'Z3', 'Q8', 'C5', 'Z2', 'Q1', 'A3', 'E5', 'J6', 'Q5', 'C5', 'E3', 'A7', 'J3', 'E5', 'Q5', 'C5', 'E3', 'A3', 'J8', 'I6', 'J7', 'Q5', 'C5', 'D2', 'Z3', 'J6', 'C5', 'E3', 'P1', 'E5', 'J5', 'Q1', 'P7', 'C5', 'Q3', 'Q1', 'D5', 'E5', 'Z3', 'Z5', 'C5', 'Z2', 'Q1', 'A3', 'E5', 'J6', 'C5', 'D5', 'Q1', 'A7', 'A3', 'Q1', 'J3', 'J8', 'D5', 'C5', 'D2', 'E5', 'Z5', 'A7', 'J7', 'Z0', 'A7', 'Z3', 'J6', 'C5', 'J8', 'J6', 'D5', 'J8', 'E6', 'C5', 'A3', 'Q1', 'P1', 'Z3', 'P1', 'J8', 'C5', 'I3', 'J8', 'I3', 'J8', 'A7', 'C5', 'Z3', 'D5', 'Z3', 'J8', 'C5', 'A3', 'Q1', 'P1', 'Z3', 'P1', 'J8', 'C5', 'J3', 'Q1', 'A7', 'J3', 'J7', 'Q8', 'J7', 'J6', 'Z0', 'P7', 'C2', 'I1', 'Q1', 'A7', 'E5', 'E6', 'J8', 'D5', 'C5', 'I6', 'Q1', 'A7', 'J8', 'Z5', 'Z3', 'E6', 'Z3', 'J6', 'C5', 'D5', 'A7', 'Z3', 'J6', 'A3', 'E6', 'A7', 'E5', 'Z5', 'C5', 'D5', 'Q1', 'A7', 'Z3', 'E6', 'Q8', 'E5', 'A7', 'C5', 'C7', 'Z3', 'J6', 'Z0', 'C5', 'D2', 'E5', 'E6', 'Q1', 'P1', 'J8', 'Z3', 'A7', 'E6', 'Z3', 'J6', 'C5', 'J7', 'P1', 'Q1', 'Q8', 'C5', 'E6', 'Q1', 'D5', 'E5', 'Z0', 'Z3', 'C5', 'I6', 'Q1', 'A3', 'E5', 'J6', 'P7', 'C2', 'E3', 'A7', 'J3', 'E5', 'P4', 'C5', 'E3', 'P1', 'E5', 'J5', 'Q1', 'C5', 'J3', 'Q1', 'A7', 'E6', 'Z3', 'D5', 'Z3', 'C5', 'J3', 'J7', 'Q8', 'J7', 'J6', 'Z0', 'C2', 'E3', 'P1', 'E5', 'J5', 'Q1', 'P4', 'C5', 'E3', 'A3', 'J8', 'I6', 'J7', 'C5', 'J3', 'Q1', 'A7', 'E6', 'Z3', 'D5', 'Z3', 'C5', 'D5', 'E5', 'D2', 'Z3', 'E6', 'C5', 'A3', 'Q1', 'A3', 'J8', 'Z3', 'E5', 'C5', 'E6', 'Q1', 'J6', 'C7', 'Z3', 'D5', 'Z3', 'Z3', 'J6', 'C2', 'E3', 'A3', 'J8', 'I6', 'J7', 'P4', 'C5', 'E3', 'A7', 'J3', 'E5', 'C5', 'D2', 'Z3', 'J6', 'C5', 'E3', 'P1', 'E5', 'J5', 'Q1', 'C5', 'A3', 'Z3', 'I6', 'Z3', 'C5', 'A3', 'Z3', 'I6', 'Z3', 'C5', 'J3', 'Q1', 'A7', 'J3', 'J7', 'Q8', 'J7', 'J6', 'Z0', 'C2', 'C2', 'Q0', 'Z3', 'A3', 'A3', 'D4', 'J7', 'A7', 'D2', 'C5', 'A2', 'E5', 'J6', 'D5', 'C5', 'A1', 'P4', 'C5', 'P0', 'Z3', 'I6', 'Z3', 'C5', 'Z2', 'Q1', 'A3', 'E5', 'J6', 'C5', 'C7', 'Z3', 'J6', 'Z0', 'C5', 'A3', 'Q1', 'P1', 'Z3', 'P1', 'J8', 'C5', 'I6', 'Q1', 'J6', 'Z0', 'Z3', 'D5', 'Z3', 'E6', 'Z3', 'J6', 'C5', 'E6', 'Q1', 'J3', 'Q1', 'J6', 'Z3', 'A7', 'Z3', 'J6', 'C2']\n"
          ]
        }
      ]
    },
    {
      "cell_type": "code",
      "source": [
        "with open('/content/gdrive/MyDrive/Python Resource/First Workshop/Encrypted Files/encrypted3.txt') as encrypted:\n",
        "    for line in encrypted:\n",
        "        encrypted3 = line.split()\n",
        "        print(encrypted3)"
      ],
      "metadata": {
        "colab": {
          "base_uri": "https://localhost:8080/"
        },
        "id": "qdbTMdbpDbts",
        "outputId": "a473c8e8-f204-4c09-cc3a-89ff2a5823bd"
      },
      "execution_count": null,
      "outputs": [
        {
          "output_type": "stream",
          "name": "stdout",
          "text": [
            "['C2', 'Q3', 'Q1', 'J7', 'A7', 'Z3', 'J6', 'Z0', 'C5', 'Z5', 'J7', 'P1', 'E5', 'A3', 'E5', 'C5', 'I6', 'Q1', 'J6', 'Q1', 'I6', 'J8', 'E6', 'Z3', 'J6', 'C5', 'A3', 'Z3', 'D5', 'J8', 'C5', 'J7', 'A7', 'Z3', 'J6', 'Z0', 'C5', 'C7', 'Z3', 'J6', 'Z0', 'C5', 'J3', 'J8', 'J6', 'J8', 'Q8', 'C5', 'D2', 'E5', 'A7', 'E5', 'C5', 'D2', 'E5', 'C5', 'A3', 'Q1', 'J3', 'J8', 'Z3', 'Q8', 'C5', 'E6', 'Z3', 'I6', 'Z3', 'A7', 'C5', 'E6', 'J7', 'A3', 'Z3', 'J6', 'P7', 'C5', 'I4', 'Z3', 'I6', 'Z3', 'A7', 'C5', 'E6', 'J7', 'A3', 'Z3', 'J6', 'C5', 'D5', 'Q1', 'A7', 'A3', 'Q1', 'J3', 'J8', 'D5', 'C5', 'Q8', 'Z3', 'J6', 'C7', 'Z3', 'C5', 'I6', 'Q1', 'I6', 'E5', 'P1', 'E5', 'E6', 'E5', 'C5', 'J2', 'C5', 'Z5', 'E5', 'J6', 'D5', 'J8', 'C5', 'D2', 'Z3', 'J6', 'C5', 'D5', 'E5', 'D2', 'Z3', 'E6', 'C5', 'I6', 'Q1', 'I6', 'E5', 'P1', 'E5', 'E6', 'E5', 'C5', 'I3', 'Q1', 'J6', 'D2', 'Q1', 'P1', 'Z3', 'P7', 'C2', 'C1', 'E5', 'C5', 'D2', 'Z3', 'P1', 'Z3', 'I6', 'C5', 'A7', 'J8', 'Z3', 'J6', 'Z0', 'Z3', 'J6', 'C5', 'Q8', 'Z3', 'J6', 'C7', 'Z3', 'C5', 'D2', 'E5', 'D5', 'Q1', 'I6', 'J8', 'E6', 'Z3', 'J6', 'C5', 'J7', 'A7', 'Z3', 'J6', 'Z0', 'C5', 'C7', 'Z3', 'J6', 'Z0', 'C5', 'I6', 'Q1', 'J6', 'Z0', 'Z0', 'Z3', 'J6', 'D5', 'J8', 'J6', 'Z0', 'C5', 'D2', 'E5', 'A7', 'E5', 'J6', 'C7', 'Z3', 'Q5', 'C5', 'I6', 'Z3', 'A3', 'E5', 'Q8', 'C5', 'D2', 'Z3', 'P1', 'Z3', 'I6', 'C5', 'E6', 'Q1', 'Z3', 'D2', 'Z3', 'Z3', 'J6', 'C5', 'D5', 'Q1', 'A7', 'Z0', 'Z3', 'J6', 'D5', 'J8', 'J6', 'Z0', 'C5', 'J8', 'D5', 'J8', 'Q8', 'C5', 'D2', 'Q1', 'J6', 'Z0', 'Z3', 'J6', 'C5', 'D5', 'Z3', 'P1', 'E5', 'J6', 'C7', 'Z3', 'C5', 'C7', 'Z3', 'J6', 'Z0', 'C5', 'D5', 'Q1', 'A7', 'Z5', 'Z3', 'A3', 'Z3', 'J6', 'Z0', 'C5', 'D2', 'E5', 'C5', 'Z3', 'D5', 'Z3', 'Z5', 'P2', 'Z3', 'D5', 'Z3', 'Z5', 'Q5', 'C5', 'D2', 'E5', 'C5', 'J3', 'Z3', 'D4', 'Z3', 'Q8', 'C5', 'J7', 'A7', 'Z3', 'J6', 'Z0', 'C5', 'D5', 'Q1', 'A7', 'A3', 'Q1', 'J3', 'J8', 'D5', 'C5', 'Z3', 'D2', 'Z3', 'C5', 'Z0', 'Q1', 'J6', 'Z3', 'J6', 'Z0', 'Z3', 'J6', 'C5', 'Z3', 'E5', 'A7', 'P7', 'C5', 'C2', 'Q0', 'E5', 'J6', 'D5', 'J8', 'C5', 'E6', 'Q1', 'C5', 'A7', 'J8', 'Z3', 'J6', 'Z0', 'Z3', 'J6', 'C5', 'D5', 'Q1', 'A7', 'A3', 'Q1', 'J3', 'J8', 'D5', 'C5', 'D5', 'Q1', 'A7', 'E6', 'J8', 'J6', 'J5', 'E5', 'C5', 'D2', 'Z3', 'A7', 'E5', 'C5', 'D2', 'Z3', 'P1', 'Z3', 'I6', 'P7', 'C5', 'Z2', 'Q1', 'A3', 'E6', 'E5', 'Z5', 'J8', 'J6', 'C5', 'D5', 'E5', 'D2', 'Z3', 'E6', 'C5', 'D5', 'Q1', 'A7', 'D2', 'Z3', 'Z5', 'Z3', 'D5', 'C5', 'I3', 'Q1', 'J6', 'D2', 'Q1', 'P1', 'Z3', 'Q5', 'C5', 'A7', 'J8', 'Z3', 'J6', 'Z0', 'Z3', 'J6', 'C5', 'D5', 'Q1', 'A7', 'A3', 'Q1', 'J3', 'J8', 'D5', 'C5', 'I6', 'Q1', 'I6', 'E5', 'P1', 'E5', 'E6', 'E5', 'C5', 'Q4', 'Q1', 'J6', 'D5', 'E5', 'P1', 'Z3', 'A3', 'E5', 'C5', 'C7', 'Z3', 'J6', 'Z0', 'C5', 'J5', 'J8', 'E6', 'J8', 'Z5', 'C5', 'J8', 'J6', 'D5', 'J8', 'E6', 'C5', 'I6', 'Q1', 'I6', 'Z3', 'A3', 'D5', 'E5', 'E6', 'Z3', 'J6', 'C5', 'E6', 'Q1', 'J3', 'J8', 'D5', 'J8', 'Q8', 'Z3', 'J6', 'C5', 'J7', 'E6', 'A3', 'E5', 'Z0', 'Q1', 'J6', 'C5', 'E9', 'C5', 'J7', 'A7', 'Z3', 'J6', 'Z0', 'C5', 'D2', 'Q1', 'D4', 'Z3', 'A3', 'Z3', 'P7', 'C2', 'Q3', 'Q1', 'P1', 'Z3', 'E5', 'J6', 'C5', 'I6', 'Z3', 'C7', 'Z3', 'D5', 'C5', 'D2', 'Z3', 'J6', 'C5', 'D5', 'Z3', 'P1', 'E5', 'C5', 'Z0', 'Z3', 'J6', 'D5', 'J8', 'J6', 'Z0', 'Q5', 'C5', 'Z5', 'Z3', 'D2', 'Z3', 'C5', 'A7', 'J8', 'Z3', 'J6', 'Z0', 'Z3', 'J6', 'C5', 'D5', 'Q1', 'A7', 'A3', 'Q1', 'J3', 'J8', 'D5', 'C5', 'D2', 'E5', 'D5', 'Q1', 'I6', 'J8', 'E6', 'Z3', 'J6', 'C5', 'J3', 'Q1', 'J3', 'Q1', 'A7', 'Z3', 'Z5', 'Z3', 'C5', 'J3', 'Q1', 'J6', 'D2', 'Z3', 'P4', 'C2', 'J2', 'P7', 'C5', 'Q0', 'E5', 'A3', 'Z3', 'J8', 'Q5', 'C5', 'Q3', 'Q1', 'J6', 'D2', 'J7', 'E6', 'Q5', 'C5', 'D2', 'Z3', 'J6', 'C5', 'E2', 'Z3', 'A7', 'Z5', 'J8', 'C5', 'C7', 'Z3', 'J6', 'Z0', 'C5', 'J8', 'I3', 'J8', 'J6', 'Z0', 'J6', 'C7', 'Z3', 'C5', 'J3', 'Q1', 'A7', 'A3', 'E5', 'Q8', 'Q5', 'C5', 'A3', 'Q1', 'Z5', 'Q1', 'A7', 'D5', 'E5', 'C5', 'J3', 'Z3', 'A7', 'J8', 'C5', 'D2', 'E5', 'J5', 'J8', 'J5', 'E5', 'C2', 'A1', 'P7', 'C5', 'Q3', 'Q1', 'J6', 'Z3', 'Z5', 'Z3', 'J6', 'C5', 'E3', 'J6', 'Z0', 'E5', 'J6', 'C5', 'C7', 'Z3', 'J6', 'Z0', 'C5', 'J3', 'Q1', 'A7', 'E5', 'A3', 'E5', 'C5', 'Z6', 'C5', 'J3', 'J8', 'D5', 'E5', 'A7', 'C5', 'Z5', 'Q1', 'P1', 'J8', 'A7', 'J8', 'C2', 'Z6', 'P7', 'C5', 'Q3', 'Q1', 'J3', 'J8', 'Z3', 'Q8', 'C5', 'D9', 'J4', 'C5', 'C7', 'Z3', 'J6', 'Z0', 'C5', 'I6', 'Z3', 'A3', 'E5', 'Q8', 'C5', 'I6', 'Q1', 'J6', 'C7', 'Z3', 'P1', 'Z3', 'C2', 'C4', 'P7', 'C5', 'Q3', 'Q1', 'J3', 'J8', 'Z3', 'Q8', 'C5', 'I4', 'J8', 'P1', 'E6', 'Z3', 'A3', 'C5', 'J3', 'Q1', 'A3', 'Z3', 'A7', 'C5', 'C7', 'Z3', 'J6', 'Z0', 'C5', 'D5', 'Q1', 'A7', 'Z5', 'Z3', 'E6', 'J8', 'C5', 'Z5', 'Z3', 'D2', 'Z3', 'C5', 'D5', 'Q1', 'I6', 'J3', 'J7', 'E6', 'C2', 'E9', 'P7', 'C5', 'Q3', 'Q1', 'J3', 'J8', 'Z3', 'Q8', 'C5', 'I6', 'Z3', 'D5', 'A7', 'Z3', 'A3', 'C5', 'D5', 'E5', 'Z5', 'E5', 'A3', 'C2', 'Z9', 'P7', 'C5', 'Q3', 'Q1', 'J3', 'J8', 'Z3', 'Q8', 'C5', 'I4', 'J7', 'I6', 'Z5', 'J7', 'A7', 'C5', 'J9', 'E5', 'A3', 'D5', 'A7', 'E5', 'E6', 'C5', 'C7', 'Z3', 'J6', 'Z0', 'C5', 'D5', 'E5', 'D2', 'Z3', 'E6', 'C5', 'D5', 'Q1', 'A7', 'J5', 'J7', 'P1', 'J7', 'E6', 'C5', 'A3', 'J8', 'I6', 'J3', 'Q1', 'A7', 'C5', 'Z3', 'A7', 'J8', 'A3', 'C2', 'C2', 'Z8', 'Q1', 'E6', 'Z3', 'I6', 'Z3', 'J6', 'C5', 'A4', 'A4', 'D9', 'J4', 'C5', 'D2', 'E5', 'C5', 'D2', 'Q1', 'Z5', 'Z3', 'J6', 'C5', 'E6', 'Z3', 'I6', 'Z3', 'A7', 'C5', 'I6', 'Q1', 'J6', 'J8', 'J6', 'I3', 'J8', 'E6', 'E6', 'Z3', 'J6', 'C5', 'J3', 'Z3', 'Q8', 'D4', 'Z3', 'C5', 'J3', 'Q1', 'J3', 'Q1', 'A7', 'Z3', 'Z5', 'Z3', 'C5', 'I3', 'Z3', 'I6', 'C5', 'A3', 'Q1', 'J3', 'Q1', 'P1', 'J8', 'I6', 'J6', 'C7', 'Z3', 'C5', 'J7', 'A7', 'Z3', 'J6', 'Z0', 'C5', 'D5', 'Q1', 'A7', 'A3', 'Q1', 'J3', 'J8', 'D5', 'C5', 'D5', 'Q1', 'A7', 'P1', 'E5', 'Q8', 'Z3', 'D5', 'C5', 'J3', 'J7', 'P1', 'Z3', 'E6', 'P2', 'J3', 'Z3', 'P1', 'E5', 'E6', 'C5', 'E6', 'Q1', 'C5', 'E6', 'Z3', 'I6', 'Z3', 'A7', 'C5', 'I6', 'Q1', 'I6', 'J3', 'Z3', 'D4', 'Z3', 'C5', 'Q1', 'I6', 'J3', 'Q1', 'A7', 'C5', 'J6', 'Z3', 'I6', 'J8', 'J6', 'C5', 'E5', 'A3', 'E5', 'C5', 'D2', 'Z3', 'A7', 'E5', 'C5', 'Q1', 'I6', 'J3', 'Q1', 'A7', 'C5', 'D5', 'Q1', 'A7', 'A3', 'Q1', 'J3', 'J8', 'D5', 'C5', 'D5', 'E5', 'D2', 'Z3', 'E6', 'C5', 'D5', 'Q1', 'A7', 'P1', 'E5', 'Q8', 'Z3', 'D5', 'C5', 'I3', 'Q1', 'P1', 'Z3', 'A3', 'P7', 'C5', 'C2', 'D3', 'I6', 'J3', 'Q1', 'A7', 'C5', 'D2', 'Q1', 'J6', 'Z0', 'Z3', 'J6', 'C5', 'D4', 'Z3', 'A7', 'J6', 'Z3', 'C5', 'C7', 'Z3', 'J6', 'Z0', 'C5', 'A3', 'Z3', 'I6', 'Z3', 'C5', 'D2', 'E5', 'D5', 'Q1', 'I6', 'J8', 'E6', 'Z3', 'J6', 'C5', 'Z5', 'Z3', 'D2', 'Z3', 'C5', 'D5', 'Q1', 'I6', 'Z5', 'Z3', 'D5', 'C5', 'I3', 'Q1', 'I6', 'J8', 'A7', 'Z3', 'J6', 'C5', 'E6', 'J7', 'A3', 'Z3', 'J6', 'C5', 'D5', 'Q1', 'A7', 'A3', 'Q1', 'J3', 'J8', 'D5', 'P7', 'C2', 'C2', 'Q0', 'Z3', 'A3', 'A3', 'D4', 'J7', 'A7', 'D2', 'C5', 'A2', 'E5', 'J6', 'D5', 'C5', 'Z6', 'P4', 'C5', 'C1', 'Z3', 'A7', 'E5', 'C5', 'J3', 'Q1', 'J6', 'D2', 'Z3', 'C5', 'C7', 'Z3', 'J6', 'Z0', 'C5', 'J3', 'Q1', 'A7', 'Z3', 'D2', 'Z3', 'C5', 'D2', 'E5', 'C5', 'D2', 'Z3', 'P1', 'Z3', 'I6', 'C5', 'E6', 'Z3', 'I6', 'Z3', 'A7', 'Q5', 'C5', 'I1', 'Q1', 'J6', 'D2', 'Z3', 'C5', 'I6', 'Z3', 'J6', 'Z3', 'E6', 'Z3', 'Q8', 'C5', 'C7', 'Z3', 'J6', 'Z0', 'C5', 'D2', 'E5', 'Z5', 'Z3', 'E6', 'Z3', 'E5', 'C5', 'J7', 'A7', 'Z3', 'J6', 'Z0', 'C5', 'D5', 'Q1', 'A7', 'A3', 'Q1', 'J3', 'J8', 'D5', 'C5', 'J8', 'J6', 'D5', 'J8', 'E6', 'C5', 'J3', 'J8', 'J6', 'J8', 'Q8', 'C5', 'D2', 'E5', 'A7', 'E5', 'C2']\n"
          ]
        }
      ]
    },
    {
      "cell_type": "code",
      "source": [
        "def break_code(inputdata):\n",
        "  blank=[]\n",
        "  for i in range(0,len(inputdata)):\n",
        "    element=inputdata[i]\n",
        "    a=element[0]\n",
        "    b=int(element[1])\n",
        "    c=cipher_dictionary[a]\n",
        "    d=c[b]\n",
        "    blank.append(d)\n",
        "  e=''.join([str(f) for f in blank])\n",
        "  print(e)"
      ],
      "metadata": {
        "id": "oXrSjPImKnbO"
      },
      "execution_count": null,
      "outputs": []
    },
    {
      "cell_type": "code",
      "source": [
        "break_code(encrypted1)"
      ],
      "metadata": {
        "colab": {
          "base_uri": "https://localhost:8080/"
        },
        "id": "Iq85GJfoGJsF",
        "outputId": "01ef5829-cee2-45d3-8e98-ef1b3ee91399"
      },
      "execution_count": null,
      "outputs": [
        {
          "output_type": "stream",
          "name": "stdout",
          "text": [
            "Bahwa sesungguhnya Kemerdekaan itu ialah hak segala bangsa dan oleh sebab itu, maka penjajahan di atas dunia harus dihapuskan, karena tidak sesuai dengan perikemanusiaan dan perikeadilan.\n",
            "Dan perjuangan pergerakan kemerdekaan Indonesia telah sampailah kepada saat yang berbahagia dengan selamat sentausa mengantarkan rakyat Indonesia ke depan pintu gerbang kemerdekaan Negara Indonesia, yang merdeka, bersatu, berdaulat, adil dan makmur.\n",
            "Atas berkat rakhmat Allah Yang Maha Kuasa dan dengan didorongkan oleh keinginan luhur, supaya berkehidupan kebangsaan yang bebas, maka rakyat Indonesia menyatakan dengan ini kemerdekaannya.\n",
            "Kemudian daripada itu untuk membentuk suatu Pemerintah Negara Indonesia yang melindungi segenap bangsa Indonesia dan seluruh tumpah darah Indonesia dan untuk memajukan kesejahteraan umum, mencerdaskan kehidupan bangsa, dan ikut melaksanakan ketertiban dunia yang berdasarkan kemerdekaan, perdamaian abadi dan keadilan sosial, maka disusunlah Kemerdekaan Kebangsaan Indonesia itu dalam suatu Undang-Undang Dasar Negara Indonesia, yang terbentuk dalam suatu susunan Negara Republik Indonesia yang berkedaulatan rakyat dengan berdasar kepada Ketuhanan Yang Maha Esa, Kemanusiaan yang adil dan beradab, Persatuan Indonesia dan Kerakyatan yang dipimpin oleh hikmat kebijaksanaan dalam Permusyawaratan/Perwakilan, serta dengan mewujudkan suatu Keadilan sosial bagi seluruh rakyat Indonesia.\n",
            "\n",
            "Password Hint 1: 7 Huruf, Nama dokumen dimana potongan teks tersebut berasal\n"
          ]
        }
      ]
    },
    {
      "cell_type": "code",
      "source": [
        "break_code(encrypted2)"
      ],
      "metadata": {
        "colab": {
          "base_uri": "https://localhost:8080/"
        },
        "id": "jN-DUKehGOkh",
        "outputId": "8e17b063-1c1e-484b-deeb-707cdf2ff9e9"
      },
      "execution_count": null,
      "outputs": [
        {
          "output_type": "stream",
          "name": "stdout",
          "text": [
            "\n",
            "Terdapat 3 buah Mesin, Arbi, Asumo, dan Alice. Setiap Mesin tersebut diprogran untuk selalu jujur atau selalu berbohong.\n",
            "Berikut merupakan transkrip terakhir yang dikeluarkan oleh ketiga mesin.\n",
            "Arbi: Alice berkata bohong\n",
            "Alice: Asumo berkata tidak sesuai kenyataan\n",
            "Asumo: Arbi dan Alice sama sama berbohong\n",
            "\n",
            "Password Hint 2: Nama Mesin yang selalu mengatakan kebenaran\n",
            "\n"
          ]
        }
      ]
    },
    {
      "cell_type": "code",
      "source": [
        "break_code(encrypted3)"
      ],
      "metadata": {
        "colab": {
          "base_uri": "https://localhost:8080/"
        },
        "id": "ba2XNTiZGS_5",
        "outputId": "07fdc9a8-7d52-4c4d-decd-14fd45382029"
      },
      "execution_count": null,
      "outputs": [
        {
          "output_type": "stream",
          "name": "stdout",
          "text": [
            "\n",
            "Seorang polisi menemukan satu orang yang bunuh diri di sebuah kamar kosan. Kamar kosan tersebut hanya memiliki 1 pintu dan tidak memiliki jendela.\n",
            "Di dalam ruangan hanya ditemukan orang yang menggantung dirinya, masih dalam keadaan tergantung utuh dengan talinya yang terpasang di atap-atap, di bawah orang tersebut ada genangan air. \n",
            "Pintu ke ruangan tersebut terkunci dari dalam. Meskipun tidak terdapat jendela, ruangan tersebut memiliki ventilasi yang cukup untuk memastikan kebutuhan oksigen 5 orang dewasa.\n",
            "Selain mayat dan tali gantung, pada ruangan tersebut ditemukan beberapa benda:\n",
            "1. Pisau, Sendok, dan Garpu yang ujungnya bersih, seperti baru dicuci\n",
            "2. Senapan Angin yang berisi 3 butir peluru\n",
            "3. Sebuah TV yang masih menyala\n",
            "4. Sebuah Kulkas besar yang terpaku pada tembok\n",
            "5. Sebuah matras tipis\n",
            "6. Sebuah Kompor Listrik yang tidak tercolok sumber arus\n",
            "\n",
            "Rekaman CCTV di depan kamar menunjukkan bahwa beberapa jam sebelumnya orang tersebut terlihat bolak-balik ke kamar membawa ember namun isi dari ember tersebut tidak terlihat jelas. \n",
            "Ember dengan warna yang sama ditemukan pada tempat jemuran kosan tersebut.\n",
            "\n",
            "Password Hint 3: Dari benda yang berada di dalam kamar, Benda manakah yang dipakai orang tersebut untuk bunuh diri\n",
            "\n"
          ]
        }
      ]
    },
    {
      "cell_type": "markdown",
      "source": [
        "# Tebak Password"
      ],
      "metadata": {
        "id": "FF-ve4EVuhGz"
      }
    },
    {
      "cell_type": "markdown",
      "source": [
        "### Jalankan Mesin"
      ],
      "metadata": {
        "id": "sjKvrSaZ7M6l"
      }
    },
    {
      "cell_type": "code",
      "source": [
        "!pip install cryptography"
      ],
      "metadata": {
        "colab": {
          "base_uri": "https://localhost:8080/"
        },
        "id": "PTU0MPWT5-cE",
        "outputId": "a2ea10f9-f21d-4eb1-d0f6-b06753a7a311"
      },
      "execution_count": null,
      "outputs": [
        {
          "output_type": "stream",
          "name": "stdout",
          "text": [
            "Collecting cryptography\n",
            "  Downloading cryptography-36.0.2-cp36-abi3-manylinux_2_24_x86_64.whl (3.6 MB)\n",
            "\u001b[K     |████████████████████████████████| 3.6 MB 8.5 MB/s \n",
            "\u001b[?25hRequirement already satisfied: cffi>=1.12 in /usr/local/lib/python3.7/dist-packages (from cryptography) (1.15.0)\n",
            "Requirement already satisfied: pycparser in /usr/local/lib/python3.7/dist-packages (from cffi>=1.12->cryptography) (2.21)\n",
            "Installing collected packages: cryptography\n",
            "Successfully installed cryptography-36.0.2\n"
          ]
        }
      ]
    },
    {
      "cell_type": "code",
      "source": [
        "from cryptography.fernet import Fernet"
      ],
      "metadata": {
        "id": "CTNI1em96BsJ"
      },
      "execution_count": null,
      "outputs": []
    },
    {
      "cell_type": "code",
      "source": [
        "with open('machine/machine.key', 'rb') as filekey:\n",
        "  key = filekey.read()\n",
        "\n",
        "fernet = Fernet(key)\n",
        "\n",
        "with open('machine/machine_code.device','rb') as encrypted_file:\n",
        "  machine_encrypted = encrypted_file.read()\n",
        "\n",
        "machine_decrypted = fernet.decrypt(machine_encrypted)"
      ],
      "metadata": {
        "id": "ol-wZ8hIuiX_"
      },
      "execution_count": null,
      "outputs": []
    },
    {
      "cell_type": "code",
      "source": [
        "exec(machine_decrypted)"
      ],
      "metadata": {
        "id": "84TK1qzl6Fcx"
      },
      "execution_count": null,
      "outputs": []
    },
    {
      "cell_type": "markdown",
      "source": [
        "Masukan Hint Password dari riddle yang berhasil kamu decrypt"
      ],
      "metadata": {
        "id": "aQBvrScavRNd"
      }
    },
    {
      "cell_type": "code",
      "source": [
        "pass_hint1 = \"UUD 1945\"\n",
        "pass_hint2 = \"Alice\"\n",
        "pass_hint3 = \"Sebuah Kulkas besar\""
      ],
      "metadata": {
        "id": "rPAHG-WlvrUi"
      },
      "execution_count": null,
      "outputs": []
    },
    {
      "cell_type": "code",
      "source": [
        "get_message(pass_hint1,pass_hint2,pass_hint3)"
      ],
      "metadata": {
        "colab": {
          "base_uri": "https://localhost:8080/"
        },
        "id": "LHgPxR7k67aJ",
        "outputId": "536a5648-2934-4c3a-e925-e16af6b07a22"
      },
      "execution_count": null,
      "outputs": [
        {
          "output_type": "stream",
          "name": "stdout",
          "text": [
            "All 3 Hint Correct.\n",
            "Access Granted\n",
            "Receiving Message\n",
            "\n",
            "Bom Nuklir terpasang di pusat kota, Menara Merah. Bom akan diledakkan pada hari Minggu, 20 Maret 2022\n"
          ]
        }
      ]
    },
    {
      "cell_type": "code",
      "source": [
        ""
      ],
      "metadata": {
        "id": "6F9CXLHI7JLh"
      },
      "execution_count": null,
      "outputs": []
    }
  ]
}